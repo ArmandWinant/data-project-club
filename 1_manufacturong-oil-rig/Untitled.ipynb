{
 "cells": [
  {
   "cell_type": "code",
   "execution_count": 72,
   "id": "82cb5c4b",
   "metadata": {},
   "outputs": [
    {
     "name": "stdout",
     "output_type": "stream",
     "text": [
      "The autoreload extension is already loaded. To reload it, use:\n",
      "  %reload_ext autoreload\n"
     ]
    }
   ],
   "source": [
    "%load_ext autoreload\n",
    "%autoreload 2"
   ]
  },
  {
   "cell_type": "code",
   "execution_count": 150,
   "id": "9543cb9c",
   "metadata": {},
   "outputs": [],
   "source": [
    "from src.dataset import DataSet\n",
    "import os"
   ]
  },
  {
   "cell_type": "code",
   "execution_count": 148,
   "id": "2e09fcc9",
   "metadata": {},
   "outputs": [],
   "source": [
    "fs_data = DataSet(\"PS1.txt\")"
   ]
  },
  {
   "cell_type": "code",
   "execution_count": 151,
   "id": "ab68efdd",
   "metadata": {},
   "outputs": [],
   "source": [
    "fs_data.read_data()"
   ]
  },
  {
   "cell_type": "code",
   "execution_count": 123,
   "id": "a2cdfdb0",
   "metadata": {},
   "outputs": [],
   "source": []
  },
  {
   "cell_type": "code",
   "execution_count": 134,
   "id": "d5a42d76",
   "metadata": {},
   "outputs": [
    {
     "name": "stdout",
     "output_type": "stream",
     "text": [
      "FS\n",
      "2\n"
     ]
    }
   ],
   "source": []
  },
  {
   "cell_type": "code",
   "execution_count": null,
   "id": "4f0b9576",
   "metadata": {},
   "outputs": [],
   "source": []
  }
 ],
 "metadata": {
  "kernelspec": {
   "display_name": "Python 3 (ipykernel)",
   "language": "python",
   "name": "python3"
  },
  "language_info": {
   "codemirror_mode": {
    "name": "ipython",
    "version": 3
   },
   "file_extension": ".py",
   "mimetype": "text/x-python",
   "name": "python",
   "nbconvert_exporter": "python",
   "pygments_lexer": "ipython3",
   "version": "3.9.6"
  }
 },
 "nbformat": 4,
 "nbformat_minor": 5
}
