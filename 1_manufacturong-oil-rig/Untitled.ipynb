{
 "cells": [
  {
   "cell_type": "code",
   "execution_count": 1,
   "id": "82cb5c4b",
   "metadata": {},
   "outputs": [],
   "source": [
    "%load_ext autoreload\n",
    "%autoreload 2"
   ]
  },
  {
   "cell_type": "code",
   "execution_count": 2,
   "id": "9543cb9c",
   "metadata": {},
   "outputs": [],
   "source": [
    "from src.dataset import DataSet, SensorDataSet\n",
    "import os"
   ]
  },
  {
   "cell_type": "code",
   "execution_count": 3,
   "id": "2e09fcc9",
   "metadata": {},
   "outputs": [],
   "source": [
    "fs_data = SensorDataSet(\"PS1.txt\")"
   ]
  },
  {
   "cell_type": "code",
   "execution_count": 4,
   "id": "ab68efdd",
   "metadata": {},
   "outputs": [
    {
     "name": "stdout",
     "output_type": "stream",
     "text": [
      "    cycleDate  cycleNumber sensorType sensorNumber sampleNumber   value   \n",
      "0  2015-05-28            1         PS            1            1  151.47  \\\n",
      "1  2015-05-28            2         PS            1            1  151.11   \n",
      "2  2015-05-28            3         PS            1            1  150.81   \n",
      "3  2015-05-28            4         PS            1            1  150.48   \n",
      "4  2015-05-28            5         PS            1            1  150.41   \n",
      "\n",
      "   samplingRate  \n",
      "0          6000  \n",
      "1          6000  \n",
      "2          6000  \n",
      "3          6000  \n",
      "4          6000  \n"
     ]
    }
   ],
   "source": [
    "fs_data.extractTransformLoad()"
   ]
  },
  {
   "cell_type": "code",
   "execution_count": null,
   "id": "d5a42d76",
   "metadata": {},
   "outputs": [],
   "source": []
  },
  {
   "cell_type": "code",
   "execution_count": null,
   "id": "4f0b9576",
   "metadata": {},
   "outputs": [],
   "source": []
  }
 ],
 "metadata": {
  "kernelspec": {
   "display_name": "Python 3 (ipykernel)",
   "language": "python",
   "name": "python3"
  },
  "language_info": {
   "codemirror_mode": {
    "name": "ipython",
    "version": 3
   },
   "file_extension": ".py",
   "mimetype": "text/x-python",
   "name": "python",
   "nbconvert_exporter": "python",
   "pygments_lexer": "ipython3",
   "version": "3.9.6"
  }
 },
 "nbformat": 4,
 "nbformat_minor": 5
}
