{
 "cells": [
  {
   "cell_type": "code",
   "execution_count": 1,
   "id": "82cb5c4b",
   "metadata": {},
   "outputs": [],
   "source": [
    "%load_ext autoreload\n",
    "%autoreload 2"
   ]
  },
  {
   "cell_type": "code",
   "execution_count": 2,
   "id": "9543cb9c",
   "metadata": {},
   "outputs": [],
   "source": [
    "from src.dataset import DataSet, SensorDataSet\n",
    "import os"
   ]
  },
  {
   "cell_type": "code",
   "execution_count": 3,
   "id": "2e09fcc9",
   "metadata": {},
   "outputs": [],
   "source": [
    "fs_data = SensorDataSet(\"TS31.txt\")"
   ]
  },
  {
   "cell_type": "code",
   "execution_count": 4,
   "id": "ab68efdd",
   "metadata": {},
   "outputs": [
    {
     "name": "stdout",
     "output_type": "stream",
     "text": [
      "Could not file 'TS31.txt' in folder '/Users/bastienwinant/Desktop/Projects/data-project-club/1_manufacturong-oil-rig/data'\n",
      "The data has not been loaded.\n",
      "The data has not been loaded.\n",
      "The data has not been loaded.\n"
     ]
    }
   ],
   "source": [
    "fs_data.extractTransformLoad()"
   ]
  },
  {
   "cell_type": "code",
   "execution_count": null,
   "id": "d5a42d76",
   "metadata": {},
   "outputs": [],
   "source": []
  },
  {
   "cell_type": "code",
   "execution_count": null,
   "id": "4f0b9576",
   "metadata": {},
   "outputs": [],
   "source": []
  }
 ],
 "metadata": {
  "kernelspec": {
   "display_name": "Python 3 (ipykernel)",
   "language": "python",
   "name": "python3"
  },
  "language_info": {
   "codemirror_mode": {
    "name": "ipython",
    "version": 3
   },
   "file_extension": ".py",
   "mimetype": "text/x-python",
   "name": "python",
   "nbconvert_exporter": "python",
   "pygments_lexer": "ipython3",
   "version": "3.9.6"
  }
 },
 "nbformat": 4,
 "nbformat_minor": 5
}
