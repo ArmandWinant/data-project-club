{
 "cells": [
  {
   "cell_type": "code",
   "execution_count": 1,
   "id": "82cb5c4b",
   "metadata": {},
   "outputs": [],
   "source": [
    "%load_ext autoreload\n",
    "%autoreload 2"
   ]
  },
  {
   "cell_type": "code",
   "execution_count": 6,
   "id": "9543cb9c",
   "metadata": {},
   "outputs": [],
   "source": [
    "from src.dataset import DataSet, SensorDataSet\n",
    "import os"
   ]
  },
  {
   "cell_type": "code",
   "execution_count": 7,
   "id": "2e09fcc9",
   "metadata": {},
   "outputs": [],
   "source": [
    "fs_data = SensorDataSet(\"PS1.txt\")"
   ]
  },
  {
   "cell_type": "code",
   "execution_count": 8,
   "id": "ab68efdd",
   "metadata": {},
   "outputs": [],
   "source": [
    "fs_data.read_data()"
   ]
  },
  {
   "cell_type": "code",
   "execution_count": 9,
   "id": "a2cdfdb0",
   "metadata": {},
   "outputs": [
    {
     "data": {
      "text/plain": [
       "('PS', '1')"
      ]
     },
     "execution_count": 9,
     "metadata": {},
     "output_type": "execute_result"
    }
   ],
   "source": [
    "fs_data.get_sensor_name()"
   ]
  },
  {
   "cell_type": "code",
   "execution_count": 134,
   "id": "d5a42d76",
   "metadata": {},
   "outputs": [
    {
     "name": "stdout",
     "output_type": "stream",
     "text": [
      "FS\n",
      "2\n"
     ]
    }
   ],
   "source": []
  },
  {
   "cell_type": "code",
   "execution_count": null,
   "id": "4f0b9576",
   "metadata": {},
   "outputs": [],
   "source": []
  }
 ],
 "metadata": {
  "kernelspec": {
   "display_name": "Python 3 (ipykernel)",
   "language": "python",
   "name": "python3"
  },
  "language_info": {
   "codemirror_mode": {
    "name": "ipython",
    "version": 3
   },
   "file_extension": ".py",
   "mimetype": "text/x-python",
   "name": "python",
   "nbconvert_exporter": "python",
   "pygments_lexer": "ipython3",
   "version": "3.9.6"
  }
 },
 "nbformat": 4,
 "nbformat_minor": 5
}
