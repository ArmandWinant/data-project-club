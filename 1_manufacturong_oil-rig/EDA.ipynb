{
 "cells": [
  {
   "cell_type": "code",
   "execution_count": 1,
   "id": "df60791f",
   "metadata": {},
   "outputs": [],
   "source": [
    "import numpy as np\n",
    "import pandas as pd\n",
    "import os\n",
    "import re"
   ]
  },
  {
   "cell_type": "code",
   "execution_count": 2,
   "id": "b7a43ecf",
   "metadata": {},
   "outputs": [],
   "source": [
    "df = pd.read_csv(\"data/EPS1.txt\", sep=\"\\t\", header=None)"
   ]
  },
  {
   "cell_type": "code",
   "execution_count": 3,
   "id": "9e631cfc",
   "metadata": {},
   "outputs": [],
   "source": [
    "# files_dict = {\n",
    "#     \"PS\": [f\"data/PS{i}.txt\" for i in range(1,5)],\n",
    "#     \"FS\": [f\"data/FS{i}.txt\" for i in range(1,3)],\n",
    "#     \"TS\": [f\"data/TS{i}.txt\" for i in range(1,5)],\n",
    "#     \"EPS\": \"EPS\",\n",
    "#     \"VS\": \"VS\",\n",
    "#     \"CE\": \"CE\",\n",
    "#     \"CP\": \"CP\",\n",
    "#     \"SE\": \"SE\"\n",
    "# }"
   ]
  },
  {
   "cell_type": "code",
   "execution_count": 4,
   "id": "813638c3",
   "metadata": {},
   "outputs": [],
   "source": [
    "data_dir = os.path.abspath(\"./data/\")"
   ]
  },
  {
   "cell_type": "code",
   "execution_count": null,
   "id": "e6d2c175",
   "metadata": {},
   "outputs": [
    {
     "name": "stdout",
     "output_type": "stream",
     "text": [
      "(2205, 63)\n",
      "(2205, 6003)\n",
      "(2205, 63)\n",
      "(2205, 6003)\n",
      "(2205, 6003)\n",
      "(2205, 63)\n",
      "(2205, 63)\n",
      "(2205, 63)\n",
      "(2205, 6003)\n"
     ]
    }
   ],
   "source": [
    "for file in os.listdir(data_dir):\n",
    "    file_path = data_dir + f\"/{file}\"\n",
    "    if file.startswith(\"description\") or file.startswith(\"documentation\"):\n",
    "        continue\n",
    "    \n",
    "    sensor_type_match = re.search(\"^[A-Za-z]+\", file)\n",
    "    sensor_type = sensor_type_match.group(0)\n",
    "    \n",
    "    try:\n",
    "        sensor_nr_match = re.search(\"[0-9]\", file)\n",
    "        sensor_nr = sensor_nr_match.group(0)\n",
    "    except AttributeError:\n",
    "        sensor_nr = None\n",
    "    \n",
    "    df = pd.read_csv(file_path, sep=\"\\t\", header=None)\n",
    "    df[\"sensorType\"] = sensor_type\n",
    "    df[\"sensorNumber\"] = sensor_nr\n",
    "    df[\"cycle\"] = df.index + 1\n",
    "#     print(df.columns)\n",
    "    print(df.shape)\n",
    "    \n",
    "    # TODO: reset index and use the index number as the cycle number\n",
    "    df = pd.melt(df, id_vars=[\"sensorType\", \"sensorNumber\",  \"cycle\"], var_name=\"metricName\", value_name=\"metricValue\")\n",
    "    \n",
    "    assert df[\"sensorType\"].isna().sum().sum() == 0\n",
    "    assert df[\"cycle\"].isna().sum().sum() == 0\n",
    "    assert df[\"metricName\"].isna().sum().sum() == 0\n",
    "    assert df[\"metricValue\"].isna().sum().sum() == 0"
   ]
  },
  {
   "cell_type": "code",
   "execution_count": null,
   "id": "f785f3cd",
   "metadata": {},
   "outputs": [],
   "source": []
  },
  {
   "cell_type": "code",
   "execution_count": null,
   "id": "3a4d1c68",
   "metadata": {},
   "outputs": [],
   "source": []
  },
  {
   "cell_type": "code",
   "execution_count": null,
   "id": "0022fbe6",
   "metadata": {},
   "outputs": [],
   "source": []
  },
  {
   "cell_type": "code",
   "execution_count": null,
   "id": "ad06e63a",
   "metadata": {},
   "outputs": [],
   "source": []
  },
  {
   "cell_type": "code",
   "execution_count": null,
   "id": "002b3a8c",
   "metadata": {},
   "outputs": [],
   "source": []
  }
 ],
 "metadata": {
  "kernelspec": {
   "display_name": "Python 3 (ipykernel)",
   "language": "python",
   "name": "python3"
  },
  "language_info": {
   "codemirror_mode": {
    "name": "ipython",
    "version": 3
   },
   "file_extension": ".py",
   "mimetype": "text/x-python",
   "name": "python",
   "nbconvert_exporter": "python",
   "pygments_lexer": "ipython3",
   "version": "3.9.16"
  }
 },
 "nbformat": 4,
 "nbformat_minor": 5
}
