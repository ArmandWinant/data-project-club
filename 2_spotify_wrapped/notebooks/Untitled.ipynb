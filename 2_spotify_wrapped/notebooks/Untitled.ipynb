{
 "cells": [
  {
   "cell_type": "code",
   "execution_count": 5,
   "id": "d4b777cf",
   "metadata": {},
   "outputs": [],
   "source": [
    "import pkce\n",
    "import hashlib"
   ]
  },
  {
   "cell_type": "code",
   "execution_count": 3,
   "id": "5ca8939b",
   "metadata": {},
   "outputs": [],
   "source": [
    "code_verifier = pkce.generate_code_verifier(length=128)"
   ]
  },
  {
   "cell_type": "code",
   "execution_count": 4,
   "id": "b6c9272e",
   "metadata": {},
   "outputs": [
    {
     "data": {
      "text/plain": [
       "'BdvbYy0KOEY_oaNz_0eVO2R-RRuItm9xJ76dQ0rhonYukBbzGNQc7a7n08AfSyKVtgv5oOhlA8apqLGzjD1snExKCJ5Naqx6ikPTJu4q34p1Gqt_g4zdm0rY4QSJiWfH'"
      ]
     },
     "execution_count": 4,
     "metadata": {},
     "output_type": "execute_result"
    }
   ],
   "source": [
    "code_verifier"
   ]
  },
  {
   "cell_type": "code",
   "execution_count": null,
   "id": "399a1420",
   "metadata": {},
   "outputs": [],
   "source": [
    "def generateRandomString(length):\n",
    "    return pkce.generate_code_verifier(length=length)"
   ]
  },
  {
   "cell_type": "code",
   "execution_count": null,
   "id": "696a8056",
   "metadata": {},
   "outputs": [],
   "source": [
    "h = hashlib.new('sha256')\n",
    "h.update(b\"Nobody inspects\")"
   ]
  }
 ],
 "metadata": {
  "kernelspec": {
   "display_name": "Python 3 (ipykernel)",
   "language": "python",
   "name": "python3"
  },
  "language_info": {
   "codemirror_mode": {
    "name": "ipython",
    "version": 3
   },
   "file_extension": ".py",
   "mimetype": "text/x-python",
   "name": "python",
   "nbconvert_exporter": "python",
   "pygments_lexer": "ipython3",
   "version": "3.9.6"
  }
 },
 "nbformat": 4,
 "nbformat_minor": 5
}
