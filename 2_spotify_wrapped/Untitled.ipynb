{
 "cells": [
  {
   "cell_type": "code",
   "execution_count": 5,
   "id": "14c9ccfb",
   "metadata": {},
   "outputs": [],
   "source": [
    "%load_ext autoreload\n",
    "%autoreload 2"
   ]
  },
  {
   "cell_type": "code",
   "execution_count": 18,
   "id": "29663e6f",
   "metadata": {},
   "outputs": [],
   "source": [
    "import pandas as pd\n",
    "import numpy as np\n",
    "import json\n",
    "import requests\n",
    "\n",
    "from src.spotify_api_helpers import get_access_token\n",
    "from src.spotifyAPIClient import SpotifyAPIClient"
   ]
  },
  {
   "cell_type": "code",
   "execution_count": 19,
   "id": "67a047d2",
   "metadata": {},
   "outputs": [
    {
     "name": "stdout",
     "output_type": "stream",
     "text": [
      "Unexpected exception formatting exception. Falling back to standard exception\n"
     ]
    },
    {
     "name": "stderr",
     "output_type": "stream",
     "text": [
      "Traceback (most recent call last):\n",
      "  File \"/Users/bastienwinant/anaconda3/envs/data-project-club/lib/python3.10/site-packages/urllib3/connection.py\", line 174, in _new_conn\n",
      "    conn = connection.create_connection(\n",
      "  File \"/Users/bastienwinant/anaconda3/envs/data-project-club/lib/python3.10/site-packages/urllib3/util/connection.py\", line 95, in create_connection\n",
      "    raise err\n",
      "  File \"/Users/bastienwinant/anaconda3/envs/data-project-club/lib/python3.10/site-packages/urllib3/util/connection.py\", line 85, in create_connection\n",
      "    sock.connect(sa)\n",
      "TimeoutError: [Errno 60] Operation timed out\n",
      "\n",
      "During handling of the above exception, another exception occurred:\n",
      "\n",
      "Traceback (most recent call last):\n",
      "  File \"/Users/bastienwinant/anaconda3/envs/data-project-club/lib/python3.10/site-packages/urllib3/connectionpool.py\", line 714, in urlopen\n",
      "    httplib_response = self._make_request(\n",
      "  File \"/Users/bastienwinant/anaconda3/envs/data-project-club/lib/python3.10/site-packages/urllib3/connectionpool.py\", line 403, in _make_request\n",
      "    self._validate_conn(conn)\n",
      "  File \"/Users/bastienwinant/anaconda3/envs/data-project-club/lib/python3.10/site-packages/urllib3/connectionpool.py\", line 1053, in _validate_conn\n",
      "    conn.connect()\n",
      "  File \"/Users/bastienwinant/anaconda3/envs/data-project-club/lib/python3.10/site-packages/urllib3/connection.py\", line 363, in connect\n",
      "    self.sock = conn = self._new_conn()\n",
      "  File \"/Users/bastienwinant/anaconda3/envs/data-project-club/lib/python3.10/site-packages/urllib3/connection.py\", line 179, in _new_conn\n",
      "    raise ConnectTimeoutError(\n",
      "urllib3.exceptions.ConnectTimeoutError: (<urllib3.connection.HTTPSConnection object at 0x7ff51fce2650>, 'Connection to accounts.spotify.com timed out. (connect timeout=None)')\n",
      "\n",
      "During handling of the above exception, another exception occurred:\n",
      "\n",
      "Traceback (most recent call last):\n",
      "  File \"/Users/bastienwinant/anaconda3/envs/data-project-club/lib/python3.10/site-packages/requests/adapters.py\", line 487, in send\n",
      "    resp = conn.urlopen(\n",
      "  File \"/Users/bastienwinant/anaconda3/envs/data-project-club/lib/python3.10/site-packages/urllib3/connectionpool.py\", line 798, in urlopen\n",
      "    retries = retries.increment(\n",
      "  File \"/Users/bastienwinant/anaconda3/envs/data-project-club/lib/python3.10/site-packages/urllib3/util/retry.py\", line 592, in increment\n",
      "    raise MaxRetryError(_pool, url, error or ResponseError(cause))\n",
      "urllib3.exceptions.MaxRetryError: HTTPSConnectionPool(host='accounts.spotify.com', port=443): Max retries exceeded with url: /api/token (Caused by ConnectTimeoutError(<urllib3.connection.HTTPSConnection object at 0x7ff51fce2650>, 'Connection to accounts.spotify.com timed out. (connect timeout=None)'))\n",
      "\n",
      "During handling of the above exception, another exception occurred:\n",
      "\n",
      "Traceback (most recent call last):\n",
      "  File \"/Users/bastienwinant/anaconda3/envs/data-project-club/lib/python3.10/site-packages/IPython/core/interactiveshell.py\", line 3505, in run_code\n",
      "    exec(code_obj, self.user_global_ns, self.user_ns)\n",
      "  File \"/var/folders/ld/g047qhg94d7fpkft6h6jkt140000gn/T/ipykernel_4339/573355088.py\", line 3, in <module>\n",
      "    sc.get_access_token()\n",
      "  File \"/Users/bastienwinant/Desktop/Projects/data-project-club/2_spotify_wrapped/src/spotifyAPIClient.py\", line 27, in get_access_token\n",
      "    r = requests.post(url, data=data, headers=headers)\n",
      "  File \"/Users/bastienwinant/anaconda3/envs/data-project-club/lib/python3.10/site-packages/requests/api.py\", line 115, in post\n",
      "    return request(\"post\", url, data=data, json=json, **kwargs)\n",
      "  File \"/Users/bastienwinant/anaconda3/envs/data-project-club/lib/python3.10/site-packages/requests/api.py\", line 59, in request\n",
      "    return session.request(method=method, url=url, **kwargs)\n",
      "  File \"/Users/bastienwinant/anaconda3/envs/data-project-club/lib/python3.10/site-packages/requests/sessions.py\", line 587, in request\n",
      "    resp = self.send(prep, **send_kwargs)\n",
      "  File \"/Users/bastienwinant/anaconda3/envs/data-project-club/lib/python3.10/site-packages/requests/sessions.py\", line 701, in send\n",
      "    r = adapter.send(request, **kwargs)\n",
      "  File \"/Users/bastienwinant/anaconda3/envs/data-project-club/lib/python3.10/site-packages/requests/adapters.py\", line 508, in send\n",
      "    raise ConnectTimeout(e, request=request)\n",
      "requests.exceptions.ConnectTimeout: HTTPSConnectionPool(host='accounts.spotify.com', port=443): Max retries exceeded with url: /api/token (Caused by ConnectTimeoutError(<urllib3.connection.HTTPSConnection object at 0x7ff51fce2650>, 'Connection to accounts.spotify.com timed out. (connect timeout=None)'))\n",
      "\n",
      "During handling of the above exception, another exception occurred:\n",
      "\n",
      "Traceback (most recent call last):\n",
      "  File \"/Users/bastienwinant/anaconda3/envs/data-project-club/lib/python3.10/site-packages/IPython/core/interactiveshell.py\", line 2102, in showtraceback\n",
      "    stb = self.InteractiveTB.structured_traceback(\n",
      "  File \"/Users/bastienwinant/anaconda3/envs/data-project-club/lib/python3.10/site-packages/IPython/core/ultratb.py\", line 1310, in structured_traceback\n",
      "    return FormattedTB.structured_traceback(\n",
      "  File \"/Users/bastienwinant/anaconda3/envs/data-project-club/lib/python3.10/site-packages/IPython/core/ultratb.py\", line 1199, in structured_traceback\n",
      "    return VerboseTB.structured_traceback(\n",
      "  File \"/Users/bastienwinant/anaconda3/envs/data-project-club/lib/python3.10/site-packages/IPython/core/ultratb.py\", line 1052, in structured_traceback\n",
      "    formatted_exception = self.format_exception_as_a_whole(etype, evalue, etb, number_of_lines_of_context,\n",
      "  File \"/Users/bastienwinant/anaconda3/envs/data-project-club/lib/python3.10/site-packages/IPython/core/ultratb.py\", line 978, in format_exception_as_a_whole\n",
      "    frames.append(self.format_record(record))\n",
      "  File \"/Users/bastienwinant/anaconda3/envs/data-project-club/lib/python3.10/site-packages/IPython/core/ultratb.py\", line 878, in format_record\n",
      "    frame_info.lines, Colors, self.has_colors, lvals\n",
      "  File \"/Users/bastienwinant/anaconda3/envs/data-project-club/lib/python3.10/site-packages/IPython/core/ultratb.py\", line 712, in lines\n",
      "    return self._sd.lines\n",
      "  File \"/Users/bastienwinant/anaconda3/envs/data-project-club/lib/python3.10/site-packages/stack_data/utils.py\", line 145, in cached_property_wrapper\n",
      "    value = obj.__dict__[self.func.__name__] = self.func(obj)\n",
      "  File \"/Users/bastienwinant/anaconda3/envs/data-project-club/lib/python3.10/site-packages/stack_data/core.py\", line 698, in lines\n",
      "    pieces = self.included_pieces\n",
      "  File \"/Users/bastienwinant/anaconda3/envs/data-project-club/lib/python3.10/site-packages/stack_data/utils.py\", line 145, in cached_property_wrapper\n",
      "    value = obj.__dict__[self.func.__name__] = self.func(obj)\n",
      "  File \"/Users/bastienwinant/anaconda3/envs/data-project-club/lib/python3.10/site-packages/stack_data/core.py\", line 649, in included_pieces\n",
      "    pos = scope_pieces.index(self.executing_piece)\n",
      "  File \"/Users/bastienwinant/anaconda3/envs/data-project-club/lib/python3.10/site-packages/stack_data/utils.py\", line 145, in cached_property_wrapper\n",
      "    value = obj.__dict__[self.func.__name__] = self.func(obj)\n",
      "  File \"/Users/bastienwinant/anaconda3/envs/data-project-club/lib/python3.10/site-packages/stack_data/core.py\", line 628, in executing_piece\n",
      "    return only(\n",
      "  File \"/Users/bastienwinant/anaconda3/envs/data-project-club/lib/python3.10/site-packages/executing/executing.py\", line 164, in only\n",
      "    raise NotOneValueFound('Expected one value, found 0')\n",
      "executing.executing.NotOneValueFound: Expected one value, found 0\n"
     ]
    }
   ],
   "source": [
    "# access_token, token_type = get_access_token()\n",
    "sc = SpotifyAPIClient(\"credentials.json\")\n",
    "sc.get_access_token()"
   ]
  },
  {
   "cell_type": "code",
   "execution_count": null,
   "id": "76b14601",
   "metadata": {},
   "outputs": [],
   "source": [
    "url = \"https://api.spotify.com/v1/artists/6rqlONGmPuP2wJVSfliLBI\"\n",
    "headers = {\"Authorization\": f\"{token_type} {access_token}\"}\n",
    "artist_data = requests.get(url, headers=headers)"
   ]
  },
  {
   "cell_type": "code",
   "execution_count": null,
   "id": "41df1995",
   "metadata": {},
   "outputs": [],
   "source": [
    "# https://open.spotify.com/artist/6rqlONGmPuP2wJVSfliLBI?si=KEvQ85cDTwCSwb2x1JHYKA"
   ]
  },
  {
   "cell_type": "code",
   "execution_count": null,
   "id": "2a7f9968",
   "metadata": {},
   "outputs": [],
   "source": [
    "artist_data.json()"
   ]
  },
  {
   "cell_type": "code",
   "execution_count": null,
   "id": "e1f14c19",
   "metadata": {},
   "outputs": [],
   "source": []
  }
 ],
 "metadata": {
  "kernelspec": {
   "display_name": "Python 3 (ipykernel)",
   "language": "python",
   "name": "python3"
  },
  "language_info": {
   "codemirror_mode": {
    "name": "ipython",
    "version": 3
   },
   "file_extension": ".py",
   "mimetype": "text/x-python",
   "name": "python",
   "nbconvert_exporter": "python",
   "pygments_lexer": "ipython3",
   "version": "3.10.11"
  }
 },
 "nbformat": 4,
 "nbformat_minor": 5
}
