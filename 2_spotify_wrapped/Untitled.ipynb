{
 "cells": [
  {
   "cell_type": "code",
   "execution_count": 1,
   "id": "4322088f",
   "metadata": {},
   "outputs": [],
   "source": [
    "%load_ext autoreload\n",
    "%autoreload 2"
   ]
  },
  {
   "cell_type": "code",
   "execution_count": 15,
   "id": "29663e6f",
   "metadata": {},
   "outputs": [],
   "source": [
    "import pandas as pd\n",
    "import numpy as np\n",
    "import json\n",
    "import requests\n",
    "\n",
    "from src.spotify_api_helpers import get_access_token\n",
    "from src.spotifyAPIClient import SpotifyAPIClient"
   ]
  },
  {
   "cell_type": "code",
   "execution_count": 16,
   "id": "67a047d2",
   "metadata": {},
   "outputs": [],
   "source": [
    "# access_token, token_type = get_access_token()\n",
    "sc = SpotifyAPIClient(\"credentials.json\")\n",
    "# sc.get_access_token()"
   ]
  },
  {
   "cell_type": "code",
   "execution_count": 4,
   "id": "dd822a36",
   "metadata": {},
   "outputs": [],
   "source": [
    "# url = \"https://api.spotify.com/v1/artists/6rqlONGmPuP2wJVSfliLBI\"\n",
    "# headers = {\"Authorization\": f\"{sc.access_token['token_type']} {sc.access_token['access_token']}\"}\n",
    "# artist_data = requests.get(url, headers=headers)"
   ]
  },
  {
   "cell_type": "code",
   "execution_count": 5,
   "id": "3b13fac7",
   "metadata": {},
   "outputs": [],
   "source": [
    "# https://open.spotify.com/artist/6rqlONGmPuP2wJVSfliLBI?si=KEvQ85cDTwCSwb2x1JHYKA"
   ]
  },
  {
   "cell_type": "code",
   "execution_count": 17,
   "id": "21ae9343",
   "metadata": {},
   "outputs": [
    {
     "name": "stdout",
     "output_type": "stream",
     "text": [
      "SpotifyAPIClient.api_request(): Access Token was not generated (call SpotifyAPIClient.get_access_token())\n"
     ]
    },
    {
     "ename": "UnboundLocalError",
     "evalue": "local variable 'artist_data' referenced before assignment",
     "output_type": "error",
     "traceback": [
      "\u001b[0;31m---------------------------------------------------------------------------\u001b[0m",
      "\u001b[0;31mUnboundLocalError\u001b[0m                         Traceback (most recent call last)",
      "Cell \u001b[0;32mIn[17], line 1\u001b[0m\n\u001b[0;32m----> 1\u001b[0m \u001b[43msc\u001b[49m\u001b[38;5;241;43m.\u001b[39;49m\u001b[43mapi_request\u001b[49m\u001b[43m(\u001b[49m\u001b[38;5;124;43m\"\u001b[39;49m\u001b[38;5;124;43mhttps://api.spotify.com/v1/artists/6rqlONGmPuP2wJVSfliLBI\u001b[39;49m\u001b[38;5;124;43m\"\u001b[39;49m\u001b[43m)\u001b[49m\n",
      "File \u001b[0;32m~/Desktop/Projects/data-project-club/2_spotify_wrapped/src/spotifyAPIClient.py:39\u001b[0m, in \u001b[0;36mSpotifyAPIClient.api_request\u001b[0;34m(self, url, *args, **kwargs)\u001b[0m\n\u001b[1;32m     35\u001b[0m         artist_data = request.get(url, headers=headers)\n\u001b[1;32m     37\u001b[0m         return artist_data\n\u001b[0;32m---> 39\u001b[0m #     def get_artist_info(self, artist_id):\n\u001b[1;32m     40\u001b[0m #         url = \"https://api.spotify.com/v1/artists/6rqlONGmPuP2wJVSfliLBI\"\n\u001b[1;32m     41\u001b[0m #         headers = {\"Authorization\": f\"{sc.access_token['token_type']} {sc.access_token['access_token']}\"}\n\u001b[1;32m     42\u001b[0m #         artist_data = requests.get(url, headers=headers)\n",
      "\u001b[0;31mUnboundLocalError\u001b[0m: local variable 'artist_data' referenced before assignment"
     ]
    }
   ],
   "source": [
    "sc.api_request(\"https://api.spotify.com/v1/artists/6rqlONGmPuP2wJVSfliLBI\")"
   ]
  },
  {
   "cell_type": "code",
   "execution_count": null,
   "id": "e12c53e7",
   "metadata": {},
   "outputs": [],
   "source": []
  }
 ],
 "metadata": {
  "kernelspec": {
   "display_name": "Python 3 (ipykernel)",
   "language": "python",
   "name": "python3"
  },
  "language_info": {
   "codemirror_mode": {
    "name": "ipython",
    "version": 3
   },
   "file_extension": ".py",
   "mimetype": "text/x-python",
   "name": "python",
   "nbconvert_exporter": "python",
   "pygments_lexer": "ipython3",
   "version": "3.10.11"
  }
 },
 "nbformat": 4,
 "nbformat_minor": 5
}
