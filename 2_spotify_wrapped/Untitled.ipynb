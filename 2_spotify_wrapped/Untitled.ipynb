{
 "cells": [
  {
   "cell_type": "code",
   "execution_count": 6,
   "id": "29663e6f",
   "metadata": {},
   "outputs": [],
   "source": [
    "import pandas as pd\n",
    "import numpy as np\n",
    "import json\n",
    "import requests"
   ]
  },
  {
   "cell_type": "code",
   "execution_count": 7,
   "id": "975bed6d",
   "metadata": {},
   "outputs": [],
   "source": [
    "def get_credentials():\n",
    "    creds_dict = {}\n",
    "    with open(\"credential.json\", \"r\") as file:\n",
    "        creds_dict = json.load(file)\n",
    "    \n",
    "    return creds_dict"
   ]
  },
  {
   "cell_type": "code",
   "execution_count": 8,
   "id": "e59f38ad",
   "metadata": {},
   "outputs": [],
   "source": [
    "def get_access_token():\n",
    "    credentials = get_credentials()\n",
    "    \n",
    "    url = \"https://accounts.spotify.com/api/token\"\n",
    "    headers = {\"Content-Type\": \"application/x-www-form-urlencoded\"}\n",
    "    data = {\n",
    "        \"grant_type\": \"client_credentials\",\n",
    "        \"client_id\": credentials['client-id'],\n",
    "        \"client_secret\": credentials['client-secret']\n",
    "    }\n",
    "    \n",
    "    r = requests.post(url, data=data, headers=headers)\n",
    "    \n",
    "    if r.status_code == 200:\n",
    "        r_json = r.json()\n",
    "        token_type = r_json[\"token_type\"]\n",
    "        access_token = r_json[\"access_token\"]\n",
    "        \n",
    "        return access_token, token_type"
   ]
  },
  {
   "cell_type": "code",
   "execution_count": 9,
   "id": "49c7943a",
   "metadata": {},
   "outputs": [],
   "source": [
    "# creds_dict = get_credentials()"
   ]
  },
  {
   "cell_type": "code",
   "execution_count": 10,
   "id": "67a047d2",
   "metadata": {},
   "outputs": [],
   "source": [
    "# url = \"https://accounts.spotify.com/api/token\"\n",
    "# headers = {\n",
    "#     \"Content-Type\": \"application/x-www-form-urlencoded\"\n",
    "# }\n",
    "# data = {\n",
    "#     \"grant_type\": \"client_credentials\",\n",
    "#     \"client_id\": creds_dict['client-id'],\n",
    "#     \"client_secret\": creds_dict['client-secret']\n",
    "# }\n",
    "# r = requests.post(url, data=data, headers=headers)\n",
    "access_token, token_type = get_access_token()"
   ]
  },
  {
   "cell_type": "code",
   "execution_count": 11,
   "id": "1298b89b",
   "metadata": {},
   "outputs": [],
   "source": [
    "# res = r.json()"
   ]
  },
  {
   "cell_type": "code",
   "execution_count": 12,
   "id": "314ab853",
   "metadata": {},
   "outputs": [
    {
     "ename": "NameError",
     "evalue": "name 'res' is not defined",
     "output_type": "error",
     "traceback": [
      "\u001b[0;31m---------------------------------------------------------------------------\u001b[0m",
      "\u001b[0;31mNameError\u001b[0m                                 Traceback (most recent call last)",
      "Cell \u001b[0;32mIn[12], line 2\u001b[0m\n\u001b[1;32m      1\u001b[0m \u001b[38;5;66;03m# token_type = res[\"token_type\"]\u001b[39;00m\n\u001b[0;32m----> 2\u001b[0m access_token \u001b[38;5;241m=\u001b[39m \u001b[43mres\u001b[49m[\u001b[38;5;124m\"\u001b[39m\u001b[38;5;124maccess_token\u001b[39m\u001b[38;5;124m\"\u001b[39m]\n",
      "\u001b[0;31mNameError\u001b[0m: name 'res' is not defined"
     ]
    }
   ],
   "source": [
    "# token_type = res[\"token_type\"]\n",
    "# access_token = res[\"access_token\"]"
   ]
  },
  {
   "cell_type": "code",
   "execution_count": null,
   "id": "f8d5f190",
   "metadata": {},
   "outputs": [],
   "source": [
    "access_token"
   ]
  },
  {
   "cell_type": "code",
   "execution_count": null,
   "id": "6caf617d",
   "metadata": {},
   "outputs": [],
   "source": [
    "url = \"https://api.spotify.com/v1/artists/4Z8W4fKeB5YxbusRsdQVPb\"\n",
    "headers = {\"Authorization\": f\"{token_type} {access_token}\"}\n",
    "artist_data = requests.get(url, headers=headers)"
   ]
  },
  {
   "cell_type": "code",
   "execution_count": null,
   "id": "b8f5c9ec",
   "metadata": {},
   "outputs": [],
   "source": [
    "artist_data.status_code"
   ]
  },
  {
   "cell_type": "code",
   "execution_count": null,
   "id": "24785da7",
   "metadata": {},
   "outputs": [],
   "source": []
  }
 ],
 "metadata": {
  "kernelspec": {
   "display_name": "Python 3 (ipykernel)",
   "language": "python",
   "name": "python3"
  },
  "language_info": {
   "codemirror_mode": {
    "name": "ipython",
    "version": 3
   },
   "file_extension": ".py",
   "mimetype": "text/x-python",
   "name": "python",
   "nbconvert_exporter": "python",
   "pygments_lexer": "ipython3",
   "version": "3.10.11"
  }
 },
 "nbformat": 4,
 "nbformat_minor": 5
}
