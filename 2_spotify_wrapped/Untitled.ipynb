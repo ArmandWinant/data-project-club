{
 "cells": [
  {
   "cell_type": "code",
   "execution_count": 5,
   "id": "d925e860",
   "metadata": {},
   "outputs": [],
   "source": [
    "%load_ext autoreload\n",
    "%autoreload 2"
   ]
  },
  {
   "cell_type": "code",
   "execution_count": 20,
   "id": "29663e6f",
   "metadata": {},
   "outputs": [],
   "source": [
    "import pandas as pd\n",
    "import numpy as np\n",
    "import json\n",
    "import requests\n",
    "\n",
    "from src.spotify_api_helpers import get_access_token\n",
    "from src.spotifyAPIClient import SpotifyAPIClient"
   ]
  },
  {
   "cell_type": "code",
   "execution_count": 21,
   "id": "67a047d2",
   "metadata": {},
   "outputs": [
    {
     "data": {
      "text/plain": [
       "{'access_token': 'BQAw_nJVbQAEkcIlAltu2dsNP4GZfk2bpNarLpUlTXi-MJxOlFZecSOjshbunNazdzS9fHxyoa9zuTpAO2Y3VRSRyHfbAuT_bQw995DTpRJQdc6KNXg',\n",
       " 'token_type': 'Bearer',\n",
       " 'expires_in': 3600}"
      ]
     },
     "execution_count": 21,
     "metadata": {},
     "output_type": "execute_result"
    }
   ],
   "source": [
    "# access_token, token_type = get_access_token()\n",
    "sc = SpotifyAPIClient(\"credentials.json\")\n",
    "sc.get_access_token()"
   ]
  },
  {
   "cell_type": "code",
   "execution_count": null,
   "id": "e6b1f7c6",
   "metadata": {},
   "outputs": [],
   "source": [
    "url = \"https://api.spotify.com/v1/artists/6rqlONGmPuP2wJVSfliLBI\"\n",
    "headers = {\"Authorization\": f\"{token_type} {access_token}\"}\n",
    "artist_data = requests.get(url, headers=headers)"
   ]
  },
  {
   "cell_type": "code",
   "execution_count": null,
   "id": "9ed0f3ec",
   "metadata": {},
   "outputs": [],
   "source": [
    "# https://open.spotify.com/artist/6rqlONGmPuP2wJVSfliLBI?si=KEvQ85cDTwCSwb2x1JHYKA"
   ]
  },
  {
   "cell_type": "code",
   "execution_count": null,
   "id": "78bb6815",
   "metadata": {},
   "outputs": [],
   "source": [
    "artist_data.json()"
   ]
  },
  {
   "cell_type": "code",
   "execution_count": null,
   "id": "c2d697d1",
   "metadata": {},
   "outputs": [],
   "source": []
  }
 ],
 "metadata": {
  "kernelspec": {
   "display_name": "Python 3 (ipykernel)",
   "language": "python",
   "name": "python3"
  },
  "language_info": {
   "codemirror_mode": {
    "name": "ipython",
    "version": 3
   },
   "file_extension": ".py",
   "mimetype": "text/x-python",
   "name": "python",
   "nbconvert_exporter": "python",
   "pygments_lexer": "ipython3",
   "version": "3.10.11"
  }
 },
 "nbformat": 4,
 "nbformat_minor": 5
}
