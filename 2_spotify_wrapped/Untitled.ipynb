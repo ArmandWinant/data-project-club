{
 "cells": [
  {
   "cell_type": "code",
   "execution_count": 1,
   "id": "0ff23a4d",
   "metadata": {},
   "outputs": [],
   "source": [
    "%load_ext autoreload\n",
    "%autoreload 2"
   ]
  },
  {
   "cell_type": "code",
   "execution_count": 2,
   "id": "29663e6f",
   "metadata": {},
   "outputs": [],
   "source": [
    "import pandas as pd\n",
    "import numpy as np\n",
    "import json\n",
    "import requests\n",
    "\n",
    "from src.spotify_api_helpers import get_access_token\n",
    "from src.spotifyAPIClient import SpotifyAPIClient"
   ]
  },
  {
   "cell_type": "code",
   "execution_count": 3,
   "id": "67a047d2",
   "metadata": {},
   "outputs": [],
   "source": [
    "# access_token, token_type = get_access_token()\n",
    "sc = SpotifyAPIClient(\"credentials.json\")\n",
    "sc.get_access_token()"
   ]
  },
  {
   "cell_type": "code",
   "execution_count": 4,
   "id": "a1423727",
   "metadata": {},
   "outputs": [],
   "source": [
    "url = \"https://api.spotify.com/v1/artists/6rqlONGmPuP2wJVSfliLBI\"\n",
    "headers = {\"Authorization\": f\"{sc.access_token['token_type']} {sc.access_token['access_token']}\"}\n",
    "artist_data = requests.get(url, headers=headers)"
   ]
  },
  {
   "cell_type": "code",
   "execution_count": 5,
   "id": "251b0899",
   "metadata": {},
   "outputs": [],
   "source": [
    "# https://open.spotify.com/artist/6rqlONGmPuP2wJVSfliLBI?si=KEvQ85cDTwCSwb2x1JHYKA"
   ]
  },
  {
   "cell_type": "code",
   "execution_count": 6,
   "id": "807fd72b",
   "metadata": {},
   "outputs": [
    {
     "data": {
      "text/plain": [
       "{'external_urls': {'spotify': 'https://open.spotify.com/artist/6rqlONGmPuP2wJVSfliLBI'},\n",
       " 'followers': {'href': None, 'total': 811931},\n",
       " 'genres': ['german pop', 'german rock'],\n",
       " 'href': 'https://api.spotify.com/v1/artists/6rqlONGmPuP2wJVSfliLBI',\n",
       " 'id': '6rqlONGmPuP2wJVSfliLBI',\n",
       " 'images': [{'height': 640,\n",
       "   'url': 'https://i.scdn.co/image/ab6761610000e5eb401d3b6b93913d6120c5de7a',\n",
       "   'width': 640},\n",
       "  {'height': 320,\n",
       "   'url': 'https://i.scdn.co/image/ab67616100005174401d3b6b93913d6120c5de7a',\n",
       "   'width': 320},\n",
       "  {'height': 160,\n",
       "   'url': 'https://i.scdn.co/image/ab6761610000f178401d3b6b93913d6120c5de7a',\n",
       "   'width': 160}],\n",
       " 'name': 'Peter Fox',\n",
       " 'popularity': 70,\n",
       " 'type': 'artist',\n",
       " 'uri': 'spotify:artist:6rqlONGmPuP2wJVSfliLBI'}"
      ]
     },
     "execution_count": 6,
     "metadata": {},
     "output_type": "execute_result"
    }
   ],
   "source": [
    "artist_data.json()"
   ]
  },
  {
   "cell_type": "code",
   "execution_count": null,
   "id": "20aff8ab",
   "metadata": {},
   "outputs": [],
   "source": []
  }
 ],
 "metadata": {
  "kernelspec": {
   "display_name": "Python 3 (ipykernel)",
   "language": "python",
   "name": "python3"
  },
  "language_info": {
   "codemirror_mode": {
    "name": "ipython",
    "version": 3
   },
   "file_extension": ".py",
   "mimetype": "text/x-python",
   "name": "python",
   "nbconvert_exporter": "python",
   "pygments_lexer": "ipython3",
   "version": "3.10.11"
  }
 },
 "nbformat": 4,
 "nbformat_minor": 5
}
