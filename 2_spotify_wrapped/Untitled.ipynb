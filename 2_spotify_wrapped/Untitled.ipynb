{
 "cells": [
  {
   "cell_type": "code",
   "execution_count": 5,
   "id": "c16fd743",
   "metadata": {},
   "outputs": [
    {
     "name": "stdout",
     "output_type": "stream",
     "text": [
      "The autoreload extension is already loaded. To reload it, use:\n",
      "  %reload_ext autoreload\n"
     ]
    }
   ],
   "source": [
    "%load_ext autoreload\n",
    "%autoreload 2"
   ]
  },
  {
   "cell_type": "code",
   "execution_count": 58,
   "id": "29663e6f",
   "metadata": {},
   "outputs": [],
   "source": [
    "import pandas as pd\n",
    "import numpy as np\n",
    "import json\n",
    "import requests\n",
    "\n",
    "from src.spotifyAPIClient import SpotifyAPIClient\n",
    "from src.dataUploader import DataUploader"
   ]
  },
  {
   "cell_type": "code",
   "execution_count": 52,
   "id": "67a047d2",
   "metadata": {},
   "outputs": [],
   "source": [
    "# sc = SpotifyAPIClient(\"SpotifyCredentials.json\")\n",
    "# sc.get_access_token()"
   ]
  },
  {
   "cell_type": "code",
   "execution_count": 53,
   "id": "0f130915",
   "metadata": {},
   "outputs": [],
   "source": [
    "# sc.api_request(\"https://api.spotify.com/v1/artists/6rqlONGmPuP2wJVSfliLBI\")"
   ]
  },
  {
   "cell_type": "code",
   "execution_count": null,
   "id": "03e9e7b6",
   "metadata": {},
   "outputs": [],
   "source": []
  },
  {
   "cell_type": "code",
   "execution_count": 59,
   "id": "11423a7a",
   "metadata": {},
   "outputs": [
    {
     "name": "stdout",
     "output_type": "stream",
     "text": [
      "Created the bucket\n"
     ]
    },
    {
     "ename": "NameError",
     "evalue": "name 'region' is not defined",
     "output_type": "error",
     "traceback": [
      "\u001b[0;31m---------------------------------------------------------------------------\u001b[0m",
      "\u001b[0;31mNameError\u001b[0m                                 Traceback (most recent call last)",
      "Cell \u001b[0;32mIn[59], line 3\u001b[0m\n\u001b[1;32m      1\u001b[0m aws_uploader \u001b[38;5;241m=\u001b[39m DataUploader(\u001b[38;5;124m\"\u001b[39m\u001b[38;5;124mAWSCredentials.json\u001b[39m\u001b[38;5;124m\"\u001b[39m)\n\u001b[1;32m      2\u001b[0m aws_uploader\u001b[38;5;241m.\u001b[39mcreateBucket()\n\u001b[0;32m----> 3\u001b[0m \u001b[43maws_uploader\u001b[49m\u001b[38;5;241;43m.\u001b[39;49m\u001b[43mdeleteBucket\u001b[49m\u001b[43m(\u001b[49m\u001b[43m)\u001b[49m\n\u001b[1;32m      4\u001b[0m aws_uploader\u001b[38;5;241m.\u001b[39mclose_client()\n",
      "File \u001b[0;32m~/Desktop/Projects/data-project-club/2_spotify_wrapped/src/dataUploader.py:45\u001b[0m, in \u001b[0;36mDataUploader.deleteBucket\u001b[0;34m(self, bucket_name)\u001b[0m\n\u001b[1;32m     43\u001b[0m \u001b[38;5;28;01mdef\u001b[39;00m \u001b[38;5;21mdeleteBucket\u001b[39m(\u001b[38;5;28mself\u001b[39m, bucket_name\u001b[38;5;241m=\u001b[39m\u001b[38;5;124m\"\u001b[39m\u001b[38;5;124mdpc-spotify-wrap-data\u001b[39m\u001b[38;5;124m\"\u001b[39m):\n\u001b[1;32m     44\u001b[0m     \u001b[38;5;28;01mtry\u001b[39;00m:\n\u001b[0;32m---> 45\u001b[0m         location \u001b[38;5;241m=\u001b[39m {\u001b[38;5;124m\"\u001b[39m\u001b[38;5;124mLocationConstraint\u001b[39m\u001b[38;5;124m\"\u001b[39m: \u001b[43mregion\u001b[49m}\n\u001b[1;32m     46\u001b[0m         \u001b[38;5;28mself\u001b[39m\u001b[38;5;241m.\u001b[39ms3_client\u001b[38;5;241m.\u001b[39mdelete_bucket(Bucket\u001b[38;5;241m=\u001b[39mbucket_name)\n\u001b[1;32m     47\u001b[0m     \u001b[38;5;28;01mexcept\u001b[39;00m ClientError \u001b[38;5;28;01mas\u001b[39;00m e:\n",
      "\u001b[0;31mNameError\u001b[0m: name 'region' is not defined"
     ]
    }
   ],
   "source": [
    "aws_uploader = DataUploader(\"AWSCredentials.json\")\n",
    "aws_uploader.createBucket()\n",
    "aws_uploader.deleteBucket()\n",
    "aws_uploader.close_client()"
   ]
  },
  {
   "cell_type": "code",
   "execution_count": null,
   "id": "c6f8ac74",
   "metadata": {},
   "outputs": [],
   "source": []
  },
  {
   "cell_type": "code",
   "execution_count": null,
   "id": "d30cef9f",
   "metadata": {},
   "outputs": [],
   "source": []
  }
 ],
 "metadata": {
  "kernelspec": {
   "display_name": "Python 3 (ipykernel)",
   "language": "python",
   "name": "python3"
  },
  "language_info": {
   "codemirror_mode": {
    "name": "ipython",
    "version": 3
   },
   "file_extension": ".py",
   "mimetype": "text/x-python",
   "name": "python",
   "nbconvert_exporter": "python",
   "pygments_lexer": "ipython3",
   "version": "3.10.11"
  }
 },
 "nbformat": 4,
 "nbformat_minor": 5
}
