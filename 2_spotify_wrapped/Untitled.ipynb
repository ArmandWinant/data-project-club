{
 "cells": [
  {
   "cell_type": "code",
   "execution_count": 4,
   "id": "29663e6f",
   "metadata": {},
   "outputs": [],
   "source": [
    "import pandas as pd\n",
    "import numpy as np\n",
    "import json\n",
    "import requests\n",
    "\n",
    "from src.spotify_api_helpers import get_access_token"
   ]
  },
  {
   "cell_type": "code",
   "execution_count": null,
   "id": "67a047d2",
   "metadata": {},
   "outputs": [],
   "source": [
    "access_token, token_type = get_access_token()"
   ]
  },
  {
   "cell_type": "code",
   "execution_count": null,
   "id": "e61b2f59",
   "metadata": {},
   "outputs": [],
   "source": [
    "url = \"https://api.spotify.com/v1/artists/4Z8W4fKeB5YxbusRsdQVPb\"\n",
    "headers = {\"Authorization\": f\"{token_type} {access_token}\"}\n",
    "artist_data = requests.get(url, headers=headers)"
   ]
  },
  {
   "cell_type": "code",
   "execution_count": null,
   "id": "58076322",
   "metadata": {},
   "outputs": [],
   "source": []
  },
  {
   "cell_type": "code",
   "execution_count": null,
   "id": "bdcb91c5",
   "metadata": {},
   "outputs": [],
   "source": []
  }
 ],
 "metadata": {
  "kernelspec": {
   "display_name": "Python 3 (ipykernel)",
   "language": "python",
   "name": "python3"
  },
  "language_info": {
   "codemirror_mode": {
    "name": "ipython",
    "version": 3
   },
   "file_extension": ".py",
   "mimetype": "text/x-python",
   "name": "python",
   "nbconvert_exporter": "python",
   "pygments_lexer": "ipython3",
   "version": "3.10.11"
  }
 },
 "nbformat": 4,
 "nbformat_minor": 5
}
