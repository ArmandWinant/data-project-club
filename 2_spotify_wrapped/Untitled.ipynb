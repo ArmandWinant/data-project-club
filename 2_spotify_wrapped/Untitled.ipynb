{
 "cells": [
  {
   "cell_type": "code",
   "execution_count": 12,
   "id": "c16fd743",
   "metadata": {},
   "outputs": [
    {
     "name": "stdout",
     "output_type": "stream",
     "text": [
      "The autoreload extension is already loaded. To reload it, use:\n",
      "  %reload_ext autoreload\n"
     ]
    }
   ],
   "source": [
    "%load_ext autoreload\n",
    "%autoreload 2"
   ]
  },
  {
   "cell_type": "code",
   "execution_count": 44,
   "id": "29663e6f",
   "metadata": {},
   "outputs": [],
   "source": [
    "import pandas as pd\n",
    "import numpy as np\n",
    "import json\n",
    "import requests\n",
    "\n",
    "from src.spotifyAPIClient import SpotifyAPIClient\n",
    "# from src.dataUploader import DataUploader\n",
    "from src.spotifyDataPipeline import SpotifyDataPipeline"
   ]
  },
  {
   "cell_type": "code",
   "execution_count": 45,
   "id": "67a047d2",
   "metadata": {},
   "outputs": [],
   "source": [
    "sc = SpotifyAPIClient(\"SpotifyCredentials.json\")\n",
    "sc.get_access_token()"
   ]
  },
  {
   "cell_type": "code",
   "execution_count": 46,
   "id": "0af074ff",
   "metadata": {},
   "outputs": [],
   "source": [
    "# sc.store_data()"
   ]
  },
  {
   "cell_type": "code",
   "execution_count": 47,
   "id": "a572dcca",
   "metadata": {},
   "outputs": [],
   "source": [
    "sc.get_artist_info()"
   ]
  },
  {
   "cell_type": "code",
   "execution_count": 5,
   "id": "0f130915",
   "metadata": {},
   "outputs": [],
   "source": [
    "# sc.api_request(\"https://api.spotify.com/v1/artists/6rqlONGmPuP2wJVSfliLBI\")"
   ]
  },
  {
   "cell_type": "code",
   "execution_count": 6,
   "id": "0a49c7ea",
   "metadata": {},
   "outputs": [],
   "source": [
    "# dp = SpotifyDataPipeline(\"SpotifyCredentials.json\", \"AWSCredentials.json\")"
   ]
  },
  {
   "cell_type": "code",
   "execution_count": 7,
   "id": "11423a7a",
   "metadata": {},
   "outputs": [],
   "source": [
    "# aws_uploader = DataUploader(\"AWSCredentials.json\")\n",
    "# aws_uploader.createBucket()\n",
    "# aws_uploader.deleteBucket()\n",
    "# aws_uploader.close_client()"
   ]
  },
  {
   "cell_type": "code",
   "execution_count": null,
   "id": "a5bdf19f",
   "metadata": {},
   "outputs": [],
   "source": []
  },
  {
   "cell_type": "code",
   "execution_count": null,
   "id": "1ef85a8c",
   "metadata": {},
   "outputs": [],
   "source": []
  }
 ],
 "metadata": {
  "kernelspec": {
   "display_name": "Python 3 (ipykernel)",
   "language": "python",
   "name": "python3"
  },
  "language_info": {
   "codemirror_mode": {
    "name": "ipython",
    "version": 3
   },
   "file_extension": ".py",
   "mimetype": "text/x-python",
   "name": "python",
   "nbconvert_exporter": "python",
   "pygments_lexer": "ipython3",
   "version": "3.10.11"
  }
 },
 "nbformat": 4,
 "nbformat_minor": 5
}
